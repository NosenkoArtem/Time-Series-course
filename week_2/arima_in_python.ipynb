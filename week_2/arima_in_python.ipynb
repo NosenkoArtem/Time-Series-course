{
 "cells": [
  {
   "cell_type": "code",
   "execution_count": 30,
   "metadata": {},
   "outputs": [
    {
     "name": "stdout",
     "output_type": "stream",
     "text": [
      "The autoreload extension is already loaded. To reload it, use:\n",
      "  %reload_ext autoreload\n"
     ]
    }
   ],
   "source": [
    "%matplotlib inline\n",
    "%load_ext autoreload\n",
    "%autoreload 2"
   ]
  },
  {
   "cell_type": "code",
   "execution_count": 31,
   "metadata": {},
   "outputs": [],
   "source": [
    "import sys\n",
    "from pathlib import Path\n",
    "\n",
    "sys.path.append(str(Path.cwd().parent))"
   ]
  },
  {
   "cell_type": "code",
   "execution_count": 39,
   "metadata": {},
   "outputs": [],
   "source": [
    "import numpy as np\n",
    "import pandas as pd\n",
    "import matplotlib.pyplot as plt\n",
    "from statsmodels.tsa.stattools import adfuller\n",
    "from statsmodels.graphics.tsaplots import plot_acf, plot_pacf\n",
    "from statsmodels.tsa.statespace import sarimax\n",
    "from scipy.stats import boxcox\n",
    "\n",
    "from load_dataset import Dataset\n",
    "import plotting"
   ]
  },
  {
   "cell_type": "code",
   "execution_count": 33,
   "metadata": {},
   "outputs": [
    {
     "name": "stdout",
     "output_type": "stream",
     "text": [
      "The autoreload extension is already loaded. To reload it, use:\n",
      "  %reload_ext autoreload\n"
     ]
    }
   ],
   "source": [
    "%load_ext autoreload\n",
    "%autoreload 2"
   ]
  },
  {
   "cell_type": "code",
   "execution_count": 34,
   "metadata": {},
   "outputs": [],
   "source": [
    "dataset = Dataset('../data/Dataset')"
   ]
  },
  {
   "cell_type": "code",
   "execution_count": 36,
   "metadata": {},
   "outputs": [],
   "source": [
    "ts = dataset['international-airline-passengers.csv']\n",
    "ts.index = ts.index.map(pd.to_datetime)"
   ]
  },
  {
   "cell_type": "code",
   "execution_count": 28,
   "metadata": {},
   "outputs": [],
   "source": [
    "ts, ts_test = ts[:100], ts[100:]"
   ]
  },
  {
   "cell_type": "code",
   "execution_count": 37,
   "metadata": {},
   "outputs": [
    {
     "data": {
      "text/plain": [
       "<AxesSubplot:xlabel='1949-01'>"
      ]
     },
     "execution_count": 37,
     "metadata": {},
     "output_type": "execute_result"
    },
    {
     "data": {
      "image/png": "[encoded data removed]",
      "text/plain": [
       "<Figure size 432x288 with 1 Axes>"
      ]
     },
     "metadata": {
      "needs_background": "light"
     },
     "output_type": "display_data"
    }
   ],
   "source": [
    "ts.plot()"
   ]
  },
  {
   "cell_type": "markdown",
   "metadata": {},
   "source": [
    "#### Задание 1. Box-Jenkins approach\n",
    "1. Убрать гетероскедастичность при помощи логарифмирования.\n",
    "2. Продифференцировать разными способами и узнать нужный порядок дифференцирования d, D, анализируя\n",
    "   получившийся ряд при помощи графика acf_plot.\n",
    "3. Оценить параметры (q, Q), (p, P) по графикам acf, pacf продифференцированного ряда.\n",
    "4. Обучить модель SARIMA и попробовать сделать предсказания исходного ряда.\n",
    "5. Критерий хорошей модели (в идеале) - стационарные остатки."
   ]
  },
  {
   "cell_type": "code",
   "execution_count": 38,
   "metadata": {},
   "outputs": [],
   "source": [
    "# <ваш код здесь>"
   ]
  },
  {
   "cell_type": "markdown",
   "metadata": {},
   "source": [
    "#### Задание 2. (используя критерий Акаике)\n",
    "1. Взять параметры дифференцирования d, D из задания 1.\n",
    "2. Выбрать сетку гиперпараметров (не брать большие значения).\n",
    "3. Для кадого набора параметров:\n",
    "    * обучить модель SARIMAX на логарифмированном ряде (все остальные преобразования к стационарному ряду модель сделает за вас)\n",
    "    * получить aic модели (хранится в аттрибуте aic обученной модели)\n",
    "    * запомнить aic для такого-то набора параметров\n",
    "4. Выбрать модель с набором гиперпараметров, дающих минимальный aic.\n",
    "5. Сделать предсказание ts_log на тестовую выборку. \n",
    "6. Восстановить предсказания обратным преобразованием.\n",
    "7. Проанализировать остатки"
   ]
  },
  {
   "cell_type": "code",
   "execution_count": 9,
   "metadata": {},
   "outputs": [],
   "source": [
    "# ваш код здесь"
   ]
  },
  {
   "cell_type": "markdown",
   "metadata": {},
   "source": [
    "#### Задание 3. (используя auto-arima)\n",
    "1. Установить аналог auto-arima из R, библиотеку pmdarima (pip install pmdarima)\n",
    "2. Обучить модель, используя функцию auto_arima, передав в нее нужные параметры."
   ]
  },
  {
   "cell_type": "code",
   "execution_count": null,
   "metadata": {},
   "outputs": [],
   "source": []
  },
  {
   "cell_type": "code",
   "execution_count": null,
   "metadata": {},
   "outputs": [],
   "source": []
  }
 ],
 "metadata": {
  "kernelspec": {
   "display_name": "Python 3",
   "language": "python",
   "name": "python3"
  },
  "language_info": {
   "codemirror_mode": {
    "name": "ipython",
    "version": 3
   },
   "file_extension": ".py",
   "mimetype": "text/x-python",
   "name": "python",
   "nbconvert_exporter": "python",
   "pygments_lexer": "ipython3",
   "version": "3.7.3"
  }
 },
 "nbformat": 4,
 "nbformat_minor": 2
}
